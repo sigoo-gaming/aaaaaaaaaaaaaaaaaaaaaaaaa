{
 "cells": [
  {
   "cell_type": "code",
   "execution_count": null,
   "id": "aedfe592",
   "metadata": {},
   "outputs": [
    {
     "name": "stdout",
     "output_type": "stream",
     "text": [
      "time :666\n",
      "10:48\r"
     ]
    }
   ],
   "source": [
    "import time as tm\n",
    "a=int(input('time :'))\n",
    "def countdown(t):\n",
    "    while t!=0:\n",
    "        m,s = divmod(t,60)\n",
    "        print(\"{:02d}:{:02d}\".format(m,s),end='\\r')\n",
    "        tm.sleep(1)\n",
    "        t-=1\n",
    "    print('fire in the hole')\n",
    "    \n",
    "countdown(a)"
   ]
  },
  {
   "cell_type": "code",
   "execution_count": null,
   "id": "6dd30909",
   "metadata": {},
   "outputs": [],
   "source": []
  },
  {
   "cell_type": "code",
   "execution_count": null,
   "id": "f4a376b1",
   "metadata": {},
   "outputs": [],
   "source": []
  }
 ],
 "metadata": {
  "kernelspec": {
   "display_name": "Python 3 (ipykernel)",
   "language": "python",
   "name": "python3"
  },
  "language_info": {
   "codemirror_mode": {
    "name": "ipython",
    "version": 3
   },
   "file_extension": ".py",
   "mimetype": "text/x-python",
   "name": "python",
   "nbconvert_exporter": "python",
   "pygments_lexer": "ipython3",
   "version": "3.9.7"
  }
 },
 "nbformat": 4,
 "nbformat_minor": 5
}
